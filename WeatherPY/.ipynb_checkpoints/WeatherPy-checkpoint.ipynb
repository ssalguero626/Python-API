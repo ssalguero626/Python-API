{
 "cells": [
  {
   "cell_type": "markdown",
   "metadata": {},
   "source": [
    "# WeatherPy\n",
    "----\n",
    "\n",
    "#### Note\n",
    "* Instructions have been included for each segment. You do not have to follow them exactly, but they are included to help you think through the steps."
   ]
  },
  {
   "cell_type": "code",
   "execution_count": 74,
   "metadata": {},
   "outputs": [
    {
     "name": "stdout",
     "output_type": "stream",
     "text": [
      "Observation 1: Highest temperature is near 0 degrees latitude and the latitude increases or decreases the temp drops\n",
      "Observation 2: The north and south poles have lower humidty. As you get closer to  0 its gets more humid\n",
      "Observation 3: Windiness is spread out through positive and negative latitudes\n"
     ]
    }
   ],
   "source": [
    "\n",
    "print(\"Observation 1: Highest temperature is near 0 degrees latitude and the latitude increases or decreases the temp drops\")\n",
    "print(\"Observation 2: The north and south poles have lower humidty. As you get closer to  0 its gets more humid\")\n",
    "print(\"Observation 3: Windiness is spread out through positive and negative latitudes\")\n"
   ]
  },
  {
   "cell_type": "code",
   "execution_count": 1,
   "metadata": {
    "scrolled": true
   },
   "outputs": [],
   "source": [
    "# Dependencies and Setup\n",
    "import matplotlib.pyplot as plt\n",
    "import pandas as pd\n",
    "import numpy as np\n",
    "import requests\n",
    "import time\n",
    "from scipy.stats import linregress\n",
    "import json\n",
    "\n",
    "\n",
    "# Import API key\n",
    "from api_keys import weather_api_key\n",
    "\n",
    "# Incorporated citipy to determine city based on latitude and longitude\n",
    "from citipy import citipy\n",
    "\n",
    "# Output File (CSV)\n",
    "output_data_file = \"output_data/cities.csv\"\n",
    "\n",
    "# Range of latitudes and longitudes\n",
    "lat_range = (-90, 90)\n",
    "lng_range = (-180, 180)"
   ]
  },
  {
   "cell_type": "markdown",
   "metadata": {},
   "source": [
    "## Generate Cities List"
   ]
  },
  {
   "cell_type": "code",
   "execution_count": 2,
   "metadata": {},
   "outputs": [
    {
     "data": {
      "text/plain": [
       "623"
      ]
     },
     "execution_count": 2,
     "metadata": {},
     "output_type": "execute_result"
    }
   ],
   "source": [
    "# List for holding lat_lngs and cities\n",
    "lat_lngs = []\n",
    "cities = []\n",
    "\n",
    "# Create a set of random lat and lng combinations\n",
    "lats = np.random.uniform(lat_range[0], lat_range[1], size=1500)\n",
    "lngs = np.random.uniform(lng_range[0], lng_range[1], size=1500)\n",
    "lat_lngs = zip(lats, lngs)\n",
    "\n",
    "# Identify nearest city for each lat, lng combination\n",
    "for lat_lng in lat_lngs:\n",
    "    city = citipy.nearest_city(lat_lng[0], lat_lng[1]).city_name\n",
    "    \n",
    "    # If the city is unique, then add it to a our cities list\n",
    "    if city not in cities:\n",
    "        cities.append(city)\n",
    "\n",
    "# Print the city count to confirm sufficient count\n",
    "len(cities)\n"
   ]
  },
  {
   "cell_type": "code",
   "execution_count": 3,
   "metadata": {},
   "outputs": [],
   "source": [
    "# Create the lists to hold the data for each city\n",
    "\n",
    "city_name = []\n",
    "cloudiness = []\n",
    "country = []\n",
    "date = []\n",
    "humidity = []\n",
    "lat = []\n",
    "lng = []\n",
    "max_temp = []\n",
    "wind_speed = []\n",
    "count = 0\n"
   ]
  },
  {
   "cell_type": "markdown",
   "metadata": {},
   "source": [
    "### Perform API Calls\n",
    "* Perform a weather check on each city using a series of successive API calls.\n",
    "* Include a print log of each city as it'sbeing processed (with the city number and city name).\n"
   ]
  },
  {
   "cell_type": "code",
   "execution_count": 5,
   "metadata": {},
   "outputs": [
    {
     "name": "stdout",
     "output_type": "stream",
     "text": [
      "Beginning Data Retrieval\n",
      "----------------------------\n",
      "Processing Record 1 of Set 1 : rikitea\n",
      "Processing Record 2 of Set 1 : mataura\n",
      "Processing Record 3 of Set 1 : iqaluit\n",
      "Processing Record 4 of Set 1 : atuona\n",
      "Processing Record 5 of Set 1 : smithers\n",
      "Processing Record 6 of Set 1 : quatre cocos\n",
      "Processing Record 7 of Set 1 : mar del plata\n",
      "Processing Record 8 of Set 1 : lavrentiya\n",
      "Processing Record 9 of Set 1 : hobyo\n",
      "Processing Record 10 of Set 1 : la ronge\n",
      "Processing Record 11 of Set 1 : westport\n",
      "Processing Record 12 of Set 1 : bure\n",
      "Processing Record 13 of Set 1 : yellowknife\n",
      "Processing Record 14 of Set 1 : busselton\n",
      "Processing Record 15 of Set 1 : russell\n",
      "Processing Record 16 of Set 1 : qaanaaq\n",
      "Processing Record 17 of Set 1 : trairi\n",
      "Processing Record 18 of Set 1 : rosario oeste\n",
      "Processing Record 19 of Set 1 : cape town\n",
      "Processing Record 20 of Set 1 : volot\n",
      "Processing Record 21 of Set 1 : ormoz\n",
      "Processing Record 22 of Set 1 : carnarvon\n",
      "Processing Record 23 of Set 1 : east london\n",
      "Processing Record 24 of Set 1 : haines junction\n",
      "Processing Record 25 of Set 1 : hamilton\n",
      "Processing Record 26 of Set 1 : hobart\n",
      "Processing Record 27 of Set 1 : klaksvik\n",
      "Processing Record 28 of Set 1 : tilichiki\n",
      "Processing Record 29 of Set 1 : jatai\n",
      "Processing Record 30 of Set 1 : hermanus\n",
      "Processing Record 31 of Set 1 : san patricio\n",
      "City not found. Skipping...\n",
      "City not found. Skipping...\n",
      "Processing Record 32 of Set 1 : aras\n",
      "Processing Record 33 of Set 1 : tuktoyaktuk\n",
      "City not found. Skipping...\n",
      "Processing Record 34 of Set 1 : severnoye\n",
      "Processing Record 35 of Set 1 : vaini\n",
      "Processing Record 36 of Set 1 : takoradi\n",
      "Processing Record 37 of Set 1 : wajima\n",
      "Processing Record 38 of Set 1 : ilulissat\n",
      "Processing Record 39 of Set 1 : mahebourg\n",
      "City not found. Skipping...\n",
      "Processing Record 40 of Set 1 : saskylakh\n",
      "Processing Record 41 of Set 1 : provideniya\n",
      "Processing Record 42 of Set 1 : lebu\n",
      "Processing Record 43 of Set 1 : kikugawa\n",
      "Processing Record 44 of Set 1 : ushuaia\n",
      "Processing Record 45 of Set 1 : punta arenas\n",
      "Processing Record 46 of Set 1 : chapleau\n",
      "Processing Record 47 of Set 1 : castro\n",
      "Processing Record 48 of Set 1 : victoria\n",
      "Processing Record 49 of Set 1 : foki\n",
      "City not found. Skipping...\n",
      "Processing Record 50 of Set 1 : merauke\n",
      "Processing Record 51 of Set 1 : pavlohrad\n",
      "Processing Record 52 of Set 1 : pisco\n",
      "Processing Record 53 of Set 1 : orsk\n",
      "Processing Record 54 of Set 1 : rocha\n",
      "Processing Record 55 of Set 1 : lagunas\n",
      "Processing Record 56 of Set 1 : avarua\n",
      "City not found. Skipping...\n",
      "City not found. Skipping...\n",
      "City not found. Skipping...\n",
      "Processing Record 57 of Set 1 : vokhma\n",
      "City not found. Skipping...\n",
      "Processing Record 58 of Set 1 : hilo\n",
      "Processing Record 59 of Set 1 : chuy\n",
      "Processing Record 60 of Set 1 : te anau\n",
      "Processing Record 61 of Set 1 : kapaa\n",
      "Processing Record 62 of Set 1 : baldone\n",
      "Processing Record 63 of Set 1 : port alfred\n",
      "Processing Record 64 of Set 1 : khatanga\n",
      "City not found. Skipping...\n",
      "Processing Record 65 of Set 1 : butaritari\n",
      "Processing Record 66 of Set 1 : zhanaozen\n",
      "Processing Record 67 of Set 1 : college\n",
      "Processing Record 68 of Set 1 : constantine\n",
      "Processing Record 69 of Set 1 : port elizabeth\n",
      "Processing Record 70 of Set 1 : zonguldak\n",
      "Processing Record 71 of Set 1 : hithadhoo\n",
      "Processing Record 72 of Set 1 : yulara\n",
      "Processing Record 73 of Set 1 : zella-mehlis\n",
      "Processing Record 74 of Set 1 : kodinsk\n",
      "Processing Record 75 of Set 1 : namibe\n",
      "Processing Record 76 of Set 1 : lagoa\n",
      "Processing Record 77 of Set 1 : bluff\n",
      "City not found. Skipping...\n",
      "Processing Record 78 of Set 1 : nikolskoye\n",
      "Processing Record 79 of Set 1 : riachao das neves\n",
      "Processing Record 80 of Set 1 : ponta do sol\n",
      "Processing Record 81 of Set 1 : sitka\n",
      "Processing Record 82 of Set 1 : tasiilaq\n",
      "Processing Record 83 of Set 1 : umm lajj\n",
      "Processing Record 84 of Set 1 : massaguet\n",
      "Processing Record 85 of Set 1 : buraydah\n",
      "City not found. Skipping...\n",
      "Processing Record 86 of Set 1 : jamestown\n",
      "Processing Record 87 of Set 1 : norman wells\n",
      "Processing Record 88 of Set 1 : korla\n",
      "Processing Record 89 of Set 1 : katobu\n",
      "Processing Record 90 of Set 1 : labuhan\n",
      "Processing Record 91 of Set 1 : longyearbyen\n",
      "City not found. Skipping...\n",
      "Processing Record 92 of Set 1 : baherden\n",
      "Processing Record 93 of Set 1 : arraial do cabo\n",
      "Processing Record 94 of Set 1 : kroya\n",
      "Processing Record 95 of Set 1 : jasper\n",
      "Processing Record 96 of Set 1 : constitucion\n",
      "Processing Record 97 of Set 1 : moose factory\n",
      "Processing Record 98 of Set 1 : rio grande\n",
      "Processing Record 99 of Set 1 : nanortalik\n",
      "Processing Record 100 of Set 1 : bredasdorp\n",
      "Processing Record 101 of Set 1 : huanren\n",
      "Processing Record 102 of Set 1 : ovre ardal\n",
      "Processing Record 103 of Set 1 : torbay\n",
      "Processing Record 104 of Set 1 : gustavo diaz ordaz\n",
      "Processing Record 105 of Set 1 : vagay\n",
      "City not found. Skipping...\n",
      "Processing Record 106 of Set 1 : faya\n",
      "Processing Record 107 of Set 1 : ribeira grande\n",
      "Processing Record 108 of Set 1 : pacific grove\n",
      "Processing Record 109 of Set 1 : meulaboh\n",
      "City not found. Skipping...\n",
      "Processing Record 110 of Set 1 : new norfolk\n",
      "Processing Record 111 of Set 1 : aksarayskiy\n",
      "Processing Record 112 of Set 1 : beringovskiy\n",
      "City not found. Skipping...\n",
      "Processing Record 113 of Set 1 : methoni\n",
      "Processing Record 114 of Set 1 : puerto ayora\n",
      "Processing Record 115 of Set 1 : sheridan\n",
      "Processing Record 116 of Set 1 : albany\n",
      "Processing Record 117 of Set 1 : kutahya\n",
      "Processing Record 118 of Set 1 : fortuna\n",
      "Processing Record 119 of Set 1 : glace bay\n",
      "Processing Record 120 of Set 1 : barentu\n",
      "Processing Record 121 of Set 1 : sao joao da barra\n",
      "Processing Record 122 of Set 1 : saint-philippe\n",
      "Processing Record 123 of Set 1 : avera\n",
      "Processing Record 124 of Set 1 : dikson\n",
      "Processing Record 125 of Set 1 : vanavara\n",
      "Processing Record 126 of Set 1 : itarema\n",
      "Processing Record 127 of Set 1 : nuevo progreso\n",
      "Processing Record 128 of Set 1 : djougou\n",
      "Processing Record 129 of Set 1 : kushmurun\n",
      "Processing Record 130 of Set 1 : janakkala\n",
      "Processing Record 131 of Set 1 : bay roberts\n",
      "Processing Record 132 of Set 1 : springbok\n",
      "Processing Record 133 of Set 1 : gaoual\n",
      "Processing Record 134 of Set 1 : pedernales\n",
      "Processing Record 135 of Set 1 : concordia\n",
      "Processing Record 136 of Set 1 : muisne\n",
      "Processing Record 137 of Set 1 : bellavista\n",
      "Processing Record 138 of Set 1 : lopatari\n",
      "Processing Record 139 of Set 1 : taos\n",
      "Processing Record 140 of Set 1 : severo-kurilsk\n",
      "City not found. Skipping...\n",
      "Processing Record 141 of Set 1 : belaya gora\n",
      "Processing Record 142 of Set 1 : seoul\n",
      "Processing Record 143 of Set 1 : northam\n",
      "Processing Record 144 of Set 1 : vysokogornyy\n",
      "Processing Record 145 of Set 1 : boone\n",
      "Processing Record 146 of Set 1 : nome\n",
      "City not found. Skipping...\n",
      "Processing Record 147 of Set 1 : yara\n",
      "Processing Record 148 of Set 1 : irituia\n",
      "Processing Record 149 of Set 1 : tuatapere\n",
      "Processing Record 150 of Set 1 : moranbah\n",
      "City not found. Skipping...\n",
      "Processing Record 151 of Set 1 : touros\n",
      "Processing Record 152 of Set 1 : atambua\n",
      "Processing Record 153 of Set 1 : myitkyina\n",
      "Processing Record 154 of Set 1 : port blair\n",
      "Processing Record 155 of Set 1 : flinders\n",
      "Processing Record 156 of Set 1 : daru\n",
      "Processing Record 157 of Set 1 : kaseda\n",
      "Processing Record 158 of Set 1 : silver city\n",
      "Processing Record 159 of Set 1 : spassk-ryazanskiy\n",
      "Processing Record 160 of Set 1 : hami\n",
      "Processing Record 161 of Set 1 : utrecht\n",
      "Processing Record 162 of Set 1 : point pedro\n",
      "Processing Record 163 of Set 1 : kaitangata\n",
      "Processing Record 164 of Set 1 : upernavik\n",
      "Processing Record 165 of Set 1 : acapulco\n",
      "Processing Record 166 of Set 1 : kropotkin\n",
      "Processing Record 167 of Set 1 : beipiao\n",
      "Processing Record 168 of Set 1 : saint-pierre\n",
      "Processing Record 169 of Set 1 : scarborough\n",
      "City not found. Skipping...\n",
      "Processing Record 170 of Set 1 : asau\n",
      "Processing Record 171 of Set 1 : belmonte\n",
      "Processing Record 172 of Set 1 : sebina\n",
      "Processing Record 173 of Set 1 : geraldton\n",
      "Processing Record 174 of Set 1 : bathsheba\n",
      "Processing Record 175 of Set 1 : kodiak\n",
      "Processing Record 176 of Set 1 : talas\n",
      "Processing Record 177 of Set 1 : grindavik\n",
      "City not found. Skipping...\n",
      "Processing Record 178 of Set 1 : sharan\n",
      "Processing Record 179 of Set 1 : matagami\n",
      "Processing Record 180 of Set 1 : antofagasta\n",
      "Processing Record 181 of Set 1 : cidreira\n",
      "Processing Record 182 of Set 1 : cherskiy\n"
     ]
    },
    {
     "name": "stdout",
     "output_type": "stream",
     "text": [
      "Processing Record 183 of Set 1 : tarko-sale\n",
      "Processing Record 184 of Set 1 : laguna\n",
      "Processing Record 185 of Set 1 : vao\n",
      "Processing Record 186 of Set 1 : coquimbo\n",
      "Processing Record 187 of Set 1 : copiapo\n",
      "Processing Record 188 of Set 1 : koslan\n",
      "Processing Record 189 of Set 1 : isetskoye\n",
      "Processing Record 190 of Set 1 : terrace bay\n",
      "Processing Record 191 of Set 1 : barrow\n",
      "Processing Record 192 of Set 1 : qasigiannguit\n",
      "Processing Record 193 of Set 1 : talnakh\n",
      "Processing Record 194 of Set 1 : vanimo\n",
      "Processing Record 195 of Set 1 : begunitsy\n",
      "Processing Record 196 of Set 1 : abalak\n",
      "Processing Record 197 of Set 1 : martapura\n",
      "Processing Record 198 of Set 1 : shelburne\n",
      "Processing Record 199 of Set 1 : cabo san lucas\n",
      "Processing Record 200 of Set 1 : fort saint james\n",
      "Processing Record 201 of Set 1 : husavik\n",
      "City not found. Skipping...\n",
      "Processing Record 202 of Set 1 : taree\n",
      "Processing Record 203 of Set 1 : oum hadjer\n",
      "Processing Record 204 of Set 1 : shieli\n",
      "City not found. Skipping...\n",
      "Processing Record 205 of Set 1 : bonthe\n",
      "Processing Record 206 of Set 1 : esperance\n",
      "Processing Record 207 of Set 1 : zadar\n",
      "Processing Record 208 of Set 1 : bima\n",
      "Processing Record 209 of Set 1 : georgetown\n",
      "Processing Record 210 of Set 1 : alma\n",
      "Processing Record 211 of Set 1 : ucluelet\n",
      "Processing Record 212 of Set 1 : novyy urengoy\n",
      "Processing Record 213 of Set 1 : marrakesh\n",
      "Processing Record 214 of Set 1 : huilong\n",
      "Processing Record 215 of Set 1 : bambous virieux\n",
      "Processing Record 216 of Set 1 : saldanha\n",
      "Processing Record 217 of Set 1 : srikakulam\n",
      "Processing Record 218 of Set 1 : luderitz\n",
      "Processing Record 219 of Set 1 : shimoda\n",
      "Processing Record 220 of Set 1 : boysun\n",
      "Processing Record 221 of Set 1 : maitum\n",
      "Processing Record 222 of Set 1 : bantou\n",
      "Processing Record 223 of Set 1 : kovdor\n",
      "Processing Record 224 of Set 1 : thinadhoo\n",
      "Processing Record 225 of Set 1 : okhotsk\n",
      "Processing Record 226 of Set 1 : clyde river\n",
      "Processing Record 227 of Set 1 : laramie\n",
      "Processing Record 228 of Set 1 : along\n",
      "Processing Record 229 of Set 1 : port-cartier\n",
      "Processing Record 230 of Set 1 : peniche\n",
      "Processing Record 231 of Set 1 : taseyevo\n",
      "Processing Record 232 of Set 1 : algiers\n",
      "Processing Record 233 of Set 1 : batagay-alyta\n",
      "Processing Record 234 of Set 1 : namatanai\n",
      "Processing Record 235 of Set 1 : shingu\n",
      "Processing Record 236 of Set 1 : vila franca do campo\n",
      "Processing Record 237 of Set 1 : mugango\n",
      "Processing Record 238 of Set 1 : kytmanovo\n",
      "Processing Record 239 of Set 1 : porto novo\n",
      "Processing Record 240 of Set 1 : bethel\n",
      "Processing Record 241 of Set 1 : sunagawa\n",
      "Processing Record 242 of Set 1 : ledyard\n",
      "Processing Record 243 of Set 1 : atbasar\n",
      "Processing Record 244 of Set 1 : goya\n",
      "Processing Record 245 of Set 1 : thompson\n",
      "Processing Record 246 of Set 1 : hofn\n",
      "Processing Record 247 of Set 1 : prince rupert\n",
      "City not found. Skipping...\n",
      "Processing Record 248 of Set 1 : karangampel\n",
      "Processing Record 249 of Set 1 : cayenne\n",
      "Processing Record 250 of Set 1 : rozivka\n",
      "Processing Record 251 of Set 1 : luanda\n",
      "Processing Record 252 of Set 1 : durant\n",
      "Processing Record 253 of Set 1 : billings\n",
      "Processing Record 254 of Set 1 : gat\n",
      "Processing Record 255 of Set 1 : poiana teiului\n",
      "Processing Record 256 of Set 1 : corning\n",
      "Processing Record 257 of Set 1 : sibu\n",
      "Processing Record 258 of Set 1 : chalus\n",
      "Processing Record 259 of Set 1 : flagstaff\n",
      "Processing Record 260 of Set 1 : quelimane\n",
      "Processing Record 261 of Set 1 : grand gaube\n",
      "Processing Record 262 of Set 1 : barra patuca\n",
      "Processing Record 263 of Set 1 : bodmin\n",
      "Processing Record 264 of Set 1 : lufilufi\n",
      "Processing Record 265 of Set 1 : le port\n",
      "Processing Record 266 of Set 1 : marsa matruh\n",
      "Processing Record 267 of Set 1 : beihai\n",
      "Processing Record 268 of Set 1 : fairbanks\n",
      "City not found. Skipping...\n",
      "Processing Record 269 of Set 1 : ozinki\n",
      "Processing Record 270 of Set 1 : brae\n",
      "Processing Record 271 of Set 1 : ust-tsilma\n",
      "Processing Record 272 of Set 1 : tigil\n",
      "Processing Record 273 of Set 1 : hirara\n",
      "Processing Record 274 of Set 1 : opuwo\n",
      "Processing Record 275 of Set 1 : hambantota\n",
      "Processing Record 276 of Set 1 : catuday\n",
      "Processing Record 277 of Set 1 : pemangkat\n",
      "Processing Record 278 of Set 1 : imbituba\n",
      "Processing Record 279 of Set 1 : yershichi\n",
      "Processing Record 280 of Set 1 : pevek\n",
      "Processing Record 281 of Set 1 : saint-michel-des-saints\n",
      "Processing Record 282 of Set 1 : bengkulu\n",
      "Processing Record 283 of Set 1 : alofi\n",
      "Processing Record 284 of Set 1 : mehamn\n",
      "Processing Record 285 of Set 1 : san bartolome\n",
      "Processing Record 286 of Set 1 : bumba\n",
      "Processing Record 287 of Set 1 : negombo\n",
      "Processing Record 288 of Set 1 : netanya\n",
      "Processing Record 289 of Set 1 : tromso\n",
      "Processing Record 290 of Set 1 : sadiqabad\n",
      "Processing Record 291 of Set 1 : camacha\n",
      "Processing Record 292 of Set 1 : mananara\n",
      "Processing Record 293 of Set 1 : conde\n",
      "Processing Record 294 of Set 1 : naze\n",
      "Processing Record 295 of Set 1 : vulcan\n",
      "Processing Record 296 of Set 1 : grand forks\n",
      "Processing Record 297 of Set 1 : oskaloosa\n",
      "Processing Record 298 of Set 1 : mondlo\n",
      "Processing Record 299 of Set 1 : santa isabel do rio negro\n",
      "Processing Record 300 of Set 1 : sambava\n",
      "Processing Record 301 of Set 1 : ayan\n",
      "Processing Record 302 of Set 1 : kahului\n",
      "Processing Record 303 of Set 1 : great yarmouth\n",
      "Processing Record 304 of Set 1 : nara\n",
      "City not found. Skipping...\n",
      "Processing Record 305 of Set 1 : chernyshevskiy\n",
      "Processing Record 306 of Set 1 : kosh-agach\n",
      "Processing Record 307 of Set 1 : palmer\n",
      "Processing Record 308 of Set 1 : leningradskiy\n",
      "Processing Record 309 of Set 1 : sao filipe\n",
      "Processing Record 310 of Set 1 : nidzica\n",
      "Processing Record 311 of Set 1 : kruisfontein\n",
      "Processing Record 312 of Set 1 : isangel\n",
      "City not found. Skipping...\n",
      "Processing Record 313 of Set 1 : bentiu\n",
      "Processing Record 314 of Set 1 : pekalongan\n",
      "Processing Record 315 of Set 1 : srednekolymsk\n",
      "Processing Record 316 of Set 1 : matara\n",
      "Processing Record 317 of Set 1 : henties bay\n",
      "City not found. Skipping...\n",
      "Processing Record 318 of Set 1 : butterworth\n",
      "Processing Record 319 of Set 1 : port-gentil\n",
      "Processing Record 320 of Set 1 : port lincoln\n",
      "Processing Record 321 of Set 1 : dongsheng\n",
      "Processing Record 322 of Set 1 : vytegra\n",
      "Processing Record 323 of Set 1 : komsomolskiy\n",
      "Processing Record 324 of Set 1 : padang\n",
      "Processing Record 325 of Set 1 : pudozh\n",
      "Processing Record 326 of Set 1 : calama\n",
      "Processing Record 327 of Set 1 : salekhard\n",
      "Processing Record 328 of Set 1 : roma\n",
      "Processing Record 329 of Set 1 : pangnirtung\n",
      "Processing Record 330 of Set 1 : yarke pole\n",
      "Processing Record 331 of Set 1 : narsaq\n",
      "Processing Record 332 of Set 1 : soe\n",
      "Processing Record 333 of Set 1 : sorong\n",
      "Processing Record 334 of Set 1 : the valley\n",
      "Processing Record 335 of Set 1 : san felipe\n",
      "Processing Record 336 of Set 1 : karratha\n",
      "Processing Record 337 of Set 1 : jaciara\n",
      "Processing Record 338 of Set 1 : dingle\n",
      "Processing Record 339 of Set 1 : matamoros\n",
      "Processing Record 340 of Set 1 : lompoc\n",
      "Processing Record 341 of Set 1 : kieta\n",
      "City not found. Skipping...\n",
      "City not found. Skipping...\n",
      "Processing Record 342 of Set 1 : ust-tarka\n",
      "Processing Record 343 of Set 1 : comodoro rivadavia\n",
      "Processing Record 344 of Set 1 : chapais\n",
      "Processing Record 345 of Set 1 : panlaitan\n",
      "Processing Record 346 of Set 1 : saint george\n",
      "Processing Record 347 of Set 1 : kaduy\n",
      "Processing Record 348 of Set 1 : nirasaki\n",
      "City not found. Skipping...\n",
      "Processing Record 349 of Set 1 : boyolangu\n",
      "City not found. Skipping...\n",
      "Processing Record 350 of Set 1 : amalapuram\n",
      "Processing Record 351 of Set 1 : harsin\n",
      "Processing Record 352 of Set 1 : khovu-aksy\n",
      "Processing Record 353 of Set 1 : tabou\n",
      "Processing Record 354 of Set 1 : saint-francois\n",
      "Processing Record 355 of Set 1 : vestmanna\n",
      "Processing Record 356 of Set 1 : zeya\n",
      "Processing Record 357 of Set 1 : novooleksiyivka\n",
      "Processing Record 358 of Set 1 : drexel heights\n",
      "Processing Record 359 of Set 1 : bolu\n",
      "Processing Record 360 of Set 1 : mao\n",
      "Processing Record 361 of Set 1 : faanui\n",
      "Processing Record 362 of Set 1 : lingao\n",
      "Processing Record 363 of Set 1 : delvine\n",
      "Processing Record 364 of Set 1 : high level\n",
      "Processing Record 365 of Set 1 : sept-iles\n",
      "Processing Record 366 of Set 1 : roald\n",
      "Processing Record 367 of Set 1 : guerrero negro\n",
      "Processing Record 368 of Set 1 : lempaala\n",
      "Processing Record 369 of Set 1 : lorengau\n"
     ]
    },
    {
     "name": "stdout",
     "output_type": "stream",
     "text": [
      "Processing Record 370 of Set 1 : trapani\n",
      "City not found. Skipping...\n",
      "Processing Record 371 of Set 1 : asyut\n",
      "Processing Record 372 of Set 1 : peleduy\n",
      "Processing Record 373 of Set 1 : tazovskiy\n",
      "Processing Record 374 of Set 1 : filadelfia\n",
      "Processing Record 375 of Set 1 : charagua\n",
      "Processing Record 376 of Set 1 : inirida\n",
      "Processing Record 377 of Set 1 : sinnamary\n",
      "Processing Record 378 of Set 1 : malanje\n",
      "Processing Record 379 of Set 1 : sabaudia\n",
      "Processing Record 380 of Set 1 : mayaky\n",
      "Processing Record 381 of Set 1 : sorland\n",
      "Processing Record 382 of Set 1 : ahipara\n",
      "City not found. Skipping...\n",
      "Processing Record 383 of Set 1 : evensk\n",
      "Processing Record 384 of Set 1 : espanola\n",
      "Processing Record 385 of Set 1 : caucaia\n",
      "Processing Record 386 of Set 1 : butte\n",
      "Processing Record 387 of Set 1 : hualmay\n",
      "Processing Record 388 of Set 1 : los llanos de aridane\n",
      "Processing Record 389 of Set 1 : havre-saint-pierre\n",
      "Processing Record 390 of Set 1 : launceston\n",
      "Processing Record 391 of Set 1 : airai\n",
      "Processing Record 392 of Set 1 : alexandria\n",
      "Processing Record 393 of Set 1 : ouro preto do oeste\n",
      "Processing Record 394 of Set 1 : hailar\n",
      "Processing Record 395 of Set 1 : kyren\n",
      "Processing Record 396 of Set 1 : ohara\n",
      "Processing Record 397 of Set 1 : xuddur\n",
      "Processing Record 398 of Set 1 : chimbote\n",
      "Processing Record 399 of Set 1 : necochea\n",
      "City not found. Skipping...\n",
      "Processing Record 400 of Set 1 : ixtapa\n",
      "Processing Record 401 of Set 1 : green river\n",
      "Processing Record 402 of Set 1 : garoua\n",
      "Processing Record 403 of Set 1 : zhireken\n",
      "Processing Record 404 of Set 1 : reconquista\n",
      "Processing Record 405 of Set 1 : rio verde de mato grosso\n",
      "Processing Record 406 of Set 1 : mankono\n",
      "Processing Record 407 of Set 1 : mayumba\n",
      "City not found. Skipping...\n",
      "Processing Record 408 of Set 1 : mahibadhoo\n",
      "Processing Record 409 of Set 1 : port pirie\n",
      "Processing Record 410 of Set 1 : aksu\n",
      "City not found. Skipping...\n",
      "Processing Record 411 of Set 1 : adrar\n",
      "Processing Record 412 of Set 1 : casma\n",
      "Processing Record 413 of Set 1 : noumea\n",
      "Processing Record 414 of Set 1 : manono\n",
      "Processing Record 415 of Set 1 : taltal\n",
      "Processing Record 416 of Set 1 : rio gallegos\n",
      "Processing Record 417 of Set 1 : fethiye\n",
      "Processing Record 418 of Set 1 : gorontalo\n",
      "Processing Record 419 of Set 1 : nouadhibou\n",
      "Processing Record 420 of Set 1 : oranjemund\n",
      "City not found. Skipping...\n",
      "Processing Record 421 of Set 1 : aden\n",
      "Processing Record 422 of Set 1 : dwarka\n",
      "Processing Record 423 of Set 1 : tocopilla\n",
      "Processing Record 424 of Set 1 : aklavik\n",
      "Processing Record 425 of Set 1 : rincon\n",
      "Processing Record 426 of Set 1 : hovd\n",
      "Processing Record 427 of Set 1 : olinda\n",
      "Processing Record 428 of Set 1 : kayerkan\n",
      "Processing Record 429 of Set 1 : muros\n",
      "Processing Record 430 of Set 1 : altea\n",
      "Processing Record 431 of Set 1 : prosec\n",
      "Processing Record 432 of Set 1 : kamaishi\n",
      "Processing Record 433 of Set 1 : port hardy\n",
      "Processing Record 434 of Set 1 : chinhoyi\n",
      "Processing Record 435 of Set 1 : stepnyak\n",
      "Processing Record 436 of Set 1 : ternate\n",
      "Processing Record 437 of Set 1 : pasighat\n",
      "Processing Record 438 of Set 1 : niksar\n",
      "Processing Record 439 of Set 1 : tadepallegudem\n",
      "Processing Record 440 of Set 1 : mayo\n",
      "Processing Record 441 of Set 1 : kollegal\n",
      "Processing Record 442 of Set 1 : solwezi\n",
      "Processing Record 443 of Set 1 : kerouane\n",
      "Processing Record 444 of Set 1 : nelson bay\n",
      "Processing Record 445 of Set 1 : anadyr\n",
      "Processing Record 446 of Set 1 : buala\n",
      "Processing Record 447 of Set 1 : ikeda\n",
      "Processing Record 448 of Set 1 : kununurra\n",
      "Processing Record 449 of Set 1 : katherine\n",
      "Processing Record 450 of Set 1 : bulungu\n",
      "Processing Record 451 of Set 1 : bell ville\n",
      "Processing Record 452 of Set 1 : sisimiut\n",
      "Processing Record 453 of Set 1 : sioux lookout\n",
      "Processing Record 454 of Set 1 : paamiut\n",
      "Processing Record 455 of Set 1 : xiangfan\n",
      "Processing Record 456 of Set 1 : el alto\n",
      "Processing Record 457 of Set 1 : bintulu\n",
      "Processing Record 458 of Set 1 : owando\n",
      "Processing Record 459 of Set 1 : benidorm\n",
      "Processing Record 460 of Set 1 : gravdal\n",
      "Processing Record 461 of Set 1 : chokurdakh\n",
      "Processing Record 462 of Set 1 : deputatskiy\n",
      "Processing Record 463 of Set 1 : banda aceh\n",
      "Processing Record 464 of Set 1 : broken hill\n",
      "Processing Record 465 of Set 1 : sabang\n",
      "Processing Record 466 of Set 1 : bolivar\n",
      "Processing Record 467 of Set 1 : seymchan\n",
      "Processing Record 468 of Set 1 : ca mau\n",
      "Processing Record 469 of Set 1 : chivay\n",
      "Processing Record 470 of Set 1 : colac\n",
      "Processing Record 471 of Set 1 : safaga\n",
      "Processing Record 472 of Set 1 : iralaya\n",
      "City not found. Skipping...\n",
      "Processing Record 473 of Set 1 : tubuala\n",
      "Processing Record 474 of Set 1 : la palma\n",
      "Processing Record 475 of Set 1 : vostok\n",
      "Processing Record 476 of Set 1 : urumqi\n",
      "Processing Record 477 of Set 1 : qaqortoq\n",
      "Processing Record 478 of Set 1 : tiksi\n",
      "City not found. Skipping...\n",
      "Processing Record 479 of Set 1 : kingman\n",
      "City not found. Skipping...\n",
      "Processing Record 480 of Set 1 : ballina\n",
      "Processing Record 481 of Set 1 : caraballeda\n",
      "Processing Record 482 of Set 1 : talara\n",
      "Processing Record 483 of Set 1 : eenhana\n",
      "City not found. Skipping...\n",
      "Processing Record 484 of Set 1 : zheleznodorozhnyy\n",
      "City not found. Skipping...\n",
      "Processing Record 485 of Set 1 : carman\n",
      "Processing Record 486 of Set 1 : ust-kuyga\n",
      "Processing Record 487 of Set 1 : murdochville\n",
      "Processing Record 488 of Set 1 : chelbasskaya\n",
      "Processing Record 489 of Set 1 : benguela\n",
      "Processing Record 490 of Set 1 : vila velha\n",
      "Processing Record 491 of Set 1 : nurota\n",
      "Processing Record 492 of Set 1 : maungatapere\n",
      "Processing Record 493 of Set 1 : ishikawa\n",
      "Processing Record 494 of Set 1 : santa maria\n",
      "Processing Record 495 of Set 1 : helong\n",
      "Processing Record 496 of Set 1 : verkhoyansk\n",
      "City not found. Skipping...\n",
      "Processing Record 497 of Set 1 : north branch\n",
      "Processing Record 498 of Set 1 : coahuayana\n",
      "Processing Record 499 of Set 1 : bowen\n",
      "Processing Record 500 of Set 1 : dharchula\n",
      "City not found. Skipping...\n",
      "Processing Record 501 of Set 1 : morro bay\n",
      "Processing Record 502 of Set 1 : ancud\n",
      "Processing Record 503 of Set 1 : lata\n",
      "City not found. Skipping...\n",
      "Processing Record 504 of Set 1 : yinchuan\n",
      "Processing Record 505 of Set 1 : kamyzyak\n",
      "City not found. Skipping...\n",
      "Processing Record 506 of Set 1 : erenhot\n",
      "Processing Record 507 of Set 1 : kawalu\n",
      "Processing Record 508 of Set 1 : abbeville\n",
      "Processing Record 509 of Set 1 : ouallam\n",
      "Processing Record 510 of Set 1 : bialystok\n",
      "Processing Record 511 of Set 1 : codrington\n",
      "Processing Record 512 of Set 1 : alta floresta\n",
      "City not found. Skipping...\n",
      "Processing Record 513 of Set 1 : san juan\n",
      "City not found. Skipping...\n",
      "Processing Record 514 of Set 1 : mana\n",
      "Processing Record 515 of Set 1 : port augusta\n",
      "Processing Record 516 of Set 1 : loreto\n",
      "Processing Record 517 of Set 1 : semey\n",
      "Processing Record 518 of Set 1 : santa ines\n",
      "Processing Record 519 of Set 1 : kudahuvadhoo\n",
      "Processing Record 520 of Set 1 : myanaung\n",
      "Processing Record 521 of Set 1 : temir\n",
      "Processing Record 522 of Set 1 : bandar-e lengeh\n",
      "Processing Record 523 of Set 1 : san blas\n",
      "Processing Record 524 of Set 1 : bestobe\n",
      "City not found. Skipping...\n",
      "Processing Record 525 of Set 1 : atyrau\n",
      "Processing Record 526 of Set 1 : half moon bay\n",
      "Processing Record 527 of Set 1 : urusha\n",
      "Processing Record 528 of Set 1 : amga\n",
      "Processing Record 529 of Set 1 : kaeo\n",
      "Processing Record 530 of Set 1 : kavieng\n",
      "Processing Record 531 of Set 1 : zyryanovsk\n",
      "Processing Record 532 of Set 1 : aguas formosas\n",
      "Processing Record 533 of Set 1 : valparaiso\n",
      "Processing Record 534 of Set 1 : osoyoos\n",
      "City not found. Skipping...\n",
      "Processing Record 535 of Set 1 : vilcun\n",
      "City not found. Skipping...\n",
      "Processing Record 536 of Set 1 : businga\n",
      "Processing Record 537 of Set 1 : krasnoye\n",
      "Processing Record 538 of Set 1 : volksrust\n",
      "Processing Record 539 of Set 1 : tual\n",
      "Processing Record 540 of Set 1 : berlevag\n",
      "Processing Record 541 of Set 1 : kelowna\n",
      "Processing Record 542 of Set 1 : back mountain\n",
      "Processing Record 543 of Set 1 : olafsvik\n",
      "Processing Record 544 of Set 1 : katsuura\n",
      "City not found. Skipping...\n",
      "Processing Record 545 of Set 1 : nyurba\n",
      "Processing Record 546 of Set 1 : alyangula\n",
      "Processing Record 547 of Set 1 : izumo\n",
      "Processing Record 548 of Set 1 : yarmouth\n",
      "Processing Record 549 of Set 1 : luganville\n",
      "Processing Record 550 of Set 1 : aykhal\n"
     ]
    },
    {
     "name": "stdout",
     "output_type": "stream",
     "text": [
      "Processing Record 551 of Set 1 : souillac\n",
      "Processing Record 552 of Set 1 : mizdah\n",
      "Processing Record 553 of Set 1 : saint-georges\n",
      "Processing Record 554 of Set 1 : dunedin\n",
      "Processing Record 555 of Set 1 : bahia honda\n",
      "Processing Record 556 of Set 1 : nabire\n",
      "Processing Record 557 of Set 1 : guozhen\n",
      "Processing Record 558 of Set 1 : nioro\n",
      "Processing Record 559 of Set 1 : mobile\n",
      "Processing Record 560 of Set 1 : andijon\n",
      "Processing Record 561 of Set 1 : manokwari\n",
      "Processing Record 562 of Set 1 : okha\n",
      "Processing Record 563 of Set 1 : kayes\n",
      "Processing Record 564 of Set 1 : butembo\n",
      "City not found. Skipping...\n",
      "Processing Record 565 of Set 1 : bismarck\n",
      "Processing Record 566 of Set 1 : burley\n",
      "Processing Record 567 of Set 1 : richards bay\n",
      "Processing Record 568 of Set 1 : joshimath\n",
      "Processing Record 569 of Set 1 : marawi\n",
      "--------------------------\n",
      "Data Retrieval Complete\n",
      "--------------------------\n"
     ]
    }
   ],
   "source": [
    "print(\"Beginning Data Retrieval\")\n",
    "print(\"----------------------------\")\n",
    "\n",
    "# Make URL and API request\n",
    "\n",
    "base_url = \"http://api.openweathermap.org/data/2.5/weather?\"\n",
    "units = \"imperial\"\n",
    "query_url = f\"{base_url}appid={weather_api_key}&units={units}&q=\"\n",
    "\n",
    "\n",
    "# Loop through the list of cities and perform a request for data on each\n",
    "\n",
    "for index, city in enumerate(cities, start = 1):\n",
    "    try:\n",
    "        response = requests.get(query_url + city).json()\n",
    "        city_name.append(response[\"name\"])\n",
    "        cloudiness.append(response[\"clouds\"][\"all\"])\n",
    "        country.append(response[\"sys\"][\"country\"])\n",
    "        date.append(response[\"dt\"])\n",
    "        humidity.append(response[\"main\"][\"humidity\"])\n",
    "        lat.append(response[\"coord\"][\"lat\"])\n",
    "        lng.append(response[\"coord\"][\"lon\"])\n",
    "        max_temp.append(response['main']['temp_max'])\n",
    "        wind_speed.append(response[\"wind\"][\"speed\"])\n",
    "        count = count + 1\n",
    "        \n",
    "        print(f\"Processing Record {count} of Set 1 : {city}\")\n",
    "        \n",
    "            \n",
    "    except(KeyError, IndexError):\n",
    "            print(\"City not found. Skipping...\")\n",
    "        \n",
    "print(\"--------------------------\")\n",
    "print(\"Data Retrieval Complete\")\n",
    "print(\"--------------------------\")\n"
   ]
  },
  {
   "cell_type": "markdown",
   "metadata": {},
   "source": [
    "### Convert Raw Data to DataFrame\n",
    "* Export the city data into a .csv.\n",
    "* Display the DataFrame"
   ]
  },
  {
   "cell_type": "code",
   "execution_count": 6,
   "metadata": {},
   "outputs": [],
   "source": [
    "# Create Panda DataFrame from newly listed info\n",
    "\n",
    "city_df = pd.DataFrame({ \n",
    "                \"City\" : city_name,\n",
    "                \"Cloudiness\" : cloudiness,\n",
    "                \"Country\" : country,\n",
    "                \"Date\" : date,\n",
    "                \"Humidity\" : humidity,\n",
    "                \"Lat\" : lat,\n",
    "                \"Lng\" : lng,\n",
    "                \"Max Temp\" : max_temp,\n",
    "                \"Wind Speed\" : wind_speed\n",
    "})\n"
   ]
  },
  {
   "cell_type": "code",
   "execution_count": 8,
   "metadata": {},
   "outputs": [
    {
     "data": {
      "text/plain": [
       "City          1138\n",
       "Cloudiness    1138\n",
       "Country       1138\n",
       "Date          1138\n",
       "Humidity      1138\n",
       "Lat           1138\n",
       "Lng           1138\n",
       "Max Temp      1138\n",
       "Wind Speed    1138\n",
       "dtype: int64"
      ]
     },
     "execution_count": 8,
     "metadata": {},
     "output_type": "execute_result"
    }
   ],
   "source": [
    "# Count DataFrame\n",
    "\n",
    "city_df.count()"
   ]
  },
  {
   "cell_type": "code",
   "execution_count": 9,
   "metadata": {},
   "outputs": [
    {
     "data": {
      "text/html": [
       "<div>\n",
       "<style scoped>\n",
       "    .dataframe tbody tr th:only-of-type {\n",
       "        vertical-align: middle;\n",
       "    }\n",
       "\n",
       "    .dataframe tbody tr th {\n",
       "        vertical-align: top;\n",
       "    }\n",
       "\n",
       "    .dataframe thead th {\n",
       "        text-align: right;\n",
       "    }\n",
       "</style>\n",
       "<table border=\"1\" class=\"dataframe\">\n",
       "  <thead>\n",
       "    <tr style=\"text-align: right;\">\n",
       "      <th></th>\n",
       "      <th>City</th>\n",
       "      <th>Cloudiness</th>\n",
       "      <th>Country</th>\n",
       "      <th>Date</th>\n",
       "      <th>Humidity</th>\n",
       "      <th>Lat</th>\n",
       "      <th>Lng</th>\n",
       "      <th>Max Temp</th>\n",
       "      <th>Wind Speed</th>\n",
       "    </tr>\n",
       "  </thead>\n",
       "  <tbody>\n",
       "    <tr>\n",
       "      <th>0</th>\n",
       "      <td>Rikitea</td>\n",
       "      <td>4</td>\n",
       "      <td>PF</td>\n",
       "      <td>1587948645</td>\n",
       "      <td>76</td>\n",
       "      <td>-23.12</td>\n",
       "      <td>-134.97</td>\n",
       "      <td>75.51</td>\n",
       "      <td>14.70</td>\n",
       "    </tr>\n",
       "    <tr>\n",
       "      <th>1</th>\n",
       "      <td>Mataura</td>\n",
       "      <td>96</td>\n",
       "      <td>NZ</td>\n",
       "      <td>1587948640</td>\n",
       "      <td>77</td>\n",
       "      <td>-46.19</td>\n",
       "      <td>168.86</td>\n",
       "      <td>55.99</td>\n",
       "      <td>11.99</td>\n",
       "    </tr>\n",
       "    <tr>\n",
       "      <th>2</th>\n",
       "      <td>Iqaluit</td>\n",
       "      <td>90</td>\n",
       "      <td>CA</td>\n",
       "      <td>1587948662</td>\n",
       "      <td>73</td>\n",
       "      <td>63.75</td>\n",
       "      <td>-68.51</td>\n",
       "      <td>23.00</td>\n",
       "      <td>13.87</td>\n",
       "    </tr>\n",
       "    <tr>\n",
       "      <th>3</th>\n",
       "      <td>Atuona</td>\n",
       "      <td>11</td>\n",
       "      <td>PF</td>\n",
       "      <td>1587948641</td>\n",
       "      <td>74</td>\n",
       "      <td>-9.80</td>\n",
       "      <td>-139.03</td>\n",
       "      <td>82.49</td>\n",
       "      <td>16.78</td>\n",
       "    </tr>\n",
       "    <tr>\n",
       "      <th>4</th>\n",
       "      <td>Smithers</td>\n",
       "      <td>90</td>\n",
       "      <td>CA</td>\n",
       "      <td>1587948656</td>\n",
       "      <td>61</td>\n",
       "      <td>54.78</td>\n",
       "      <td>-127.17</td>\n",
       "      <td>46.40</td>\n",
       "      <td>10.29</td>\n",
       "    </tr>\n",
       "  </tbody>\n",
       "</table>\n",
       "</div>"
      ],
      "text/plain": [
       "       City  Cloudiness Country        Date  Humidity    Lat     Lng  \\\n",
       "0   Rikitea           4      PF  1587948645        76 -23.12 -134.97   \n",
       "1   Mataura          96      NZ  1587948640        77 -46.19  168.86   \n",
       "2   Iqaluit          90      CA  1587948662        73  63.75  -68.51   \n",
       "3    Atuona          11      PF  1587948641        74  -9.80 -139.03   \n",
       "4  Smithers          90      CA  1587948656        61  54.78 -127.17   \n",
       "\n",
       "   Max Temp  Wind Speed  \n",
       "0     75.51       14.70  \n",
       "1     55.99       11.99  \n",
       "2     23.00       13.87  \n",
       "3     82.49       16.78  \n",
       "4     46.40       10.29  "
      ]
     },
     "execution_count": 9,
     "metadata": {},
     "output_type": "execute_result"
    }
   ],
   "source": [
    "# Display DataFrame\n",
    "\n",
    "city_df.head()"
   ]
  },
  {
   "cell_type": "code",
   "execution_count": 12,
   "metadata": {},
   "outputs": [],
   "source": [
    "city_df.to_csv(\"cities.csv\")"
   ]
  },
  {
   "cell_type": "markdown",
   "metadata": {},
   "source": [
    "## Plotting the Data\n",
    "* Use proper labeling of the plots using plot titles (including date of analysis) and axes labels.\n",
    "* Save the plotted figures as .pngs."
   ]
  },
  {
   "cell_type": "markdown",
   "metadata": {},
   "source": [
    "## Latitude vs. Temperature Plot"
   ]
  },
  {
   "cell_type": "code",
   "execution_count": 37,
   "metadata": {
    "scrolled": true
   },
   "outputs": [
    {
     "name": "stdout",
     "output_type": "stream",
     "text": [
      "Highest temperature is near 0 degrees latitude and the latitude increases or decreases the temp drops\n"
     ]
    },
    {
     "data": {
      "image/png": "[encoded data removed]",
      "text/plain": [
       "<Figure size 432x288 with 1 Axes>"
      ]
     },
     "metadata": {
      "needs_background": "light"
     },
     "output_type": "display_data"
    }
   ],
   "source": [
    "# Create Latitude vs. Temperature Plot scatter plot\n",
    "\n",
    "plt.scatter(city_df[\"Lat\"], city_df[\"Max Temp\"], facecolor = \"steelblue\", edgecolor = \"black\")\n",
    "\n",
    "# Set title and x / y labels / grid \n",
    "plt.title(\"City Latitude vs. Max Temperature (04/25/20)\")\n",
    "plt.xlabel(\"Latitude\")\n",
    "plt.ylabel(\"Max Temperature (F)\")\n",
    "\n",
    "plt.grid(linestyle='-', linewidth=1, alpha = 0.5)\n",
    "\n",
    "# Save the plotted figure as .pngs\n",
    "plt.savefig(\"City Latitude vs Max Temperature.png\")\n",
    "\n",
    "print(\"Highest temperature is near 0 degrees latitude and the latitude increases or decreases the temp drops\")\n"
   ]
  },
  {
   "cell_type": "markdown",
   "metadata": {},
   "source": [
    "## Latitude vs. Humidity Plot"
   ]
  },
  {
   "cell_type": "code",
   "execution_count": 39,
   "metadata": {},
   "outputs": [
    {
     "name": "stdout",
     "output_type": "stream",
     "text": [
      "The north and south poles have lower humidty. As you get closer to  0 its gets more humid\n"
     ]
    },
    {
     "data": {
      "image/png": "[encoded data removed]",
      "text/plain": [
       "<Figure size 432x288 with 1 Axes>"
      ]
     },
     "metadata": {
      "needs_background": "light"
     },
     "output_type": "display_data"
    }
   ],
   "source": [
    "# Create Latitude vs. Humidity Plot scatter plot\n",
    "plt.scatter(city_df[\"Lat\"], city_df[\"Humidity\"], facecolor = \"steelblue\", edgecolor = \"black\")\n",
    "\n",
    "# Set title and x / y labels / grid\n",
    "plt.title(\"City Latitude vs. Humidity (04/25/20)\")\n",
    "plt.xlabel(\"Latitude\")\n",
    "plt.ylabel(\"Humidity (%)\")\n",
    "plt.grid(linestyle='-', linewidth=1, alpha = 0.5)\n",
    "\n",
    "# Save the plotted figure as .pngs\n",
    "plt.savefig(\"City Latitude vs Humidity.png\")\n",
    "\n",
    "print(\"The north and south poles have lower humidty. As you get closer to  0 its gets more humid\")"
   ]
  },
  {
   "cell_type": "markdown",
   "metadata": {},
   "source": [
    "## Latitude vs. Cloudiness Plot"
   ]
  },
  {
   "cell_type": "code",
   "execution_count": 41,
   "metadata": {},
   "outputs": [
    {
     "name": "stdout",
     "output_type": "stream",
     "text": [
      "Clouds are abundant everywhere throughout the latitude\n"
     ]
    },
    {
     "data": {
      "image/png": "[encoded data removed]",
      "text/plain": [
       "<Figure size 432x288 with 1 Axes>"
      ]
     },
     "metadata": {
      "needs_background": "light"
     },
     "output_type": "display_data"
    }
   ],
   "source": [
    "# Create Latitude vs. Cloudiness Plot scatter plot\n",
    "plt.scatter(city_df[\"Lat\"], city_df[\"Cloudiness\"], facecolor = \"steelblue\", edgecolor = \"black\")\n",
    "\n",
    "# Set title and x / y labels / grid\n",
    "plt.title(\"City Latitude vs. Cloudiness (04/25/20)\")\n",
    "plt.xlabel(\"Latitude\")\n",
    "plt.ylabel(\"Cloudiness (%)\")\n",
    "\n",
    "# Set y axis limit\n",
    "plt.ylim(-5,105)\n",
    "plt.grid(linestyle='-', linewidth=1, alpha = 0.5)\n",
    "\n",
    "# Save the plotted figure as .pngs\n",
    "plt.savefig(\"City Latitude vs Cloudiness.png\")\n",
    "\n",
    "print(\"Clouds are abundant everywhere throughout the latitude\")"
   ]
  },
  {
   "cell_type": "markdown",
   "metadata": {},
   "source": [
    "## Latitude vs. Wind Speed Plot"
   ]
  },
  {
   "cell_type": "code",
   "execution_count": 42,
   "metadata": {},
   "outputs": [
    {
     "name": "stdout",
     "output_type": "stream",
     "text": [
      "Windiness is spread out through positive and negative latitudes\n"
     ]
    },
    {
     "data": {
      "image/png": "[encoded data removed]",
      "text/plain": [
       "<Figure size 432x288 with 1 Axes>"
      ]
     },
     "metadata": {
      "needs_background": "light"
     },
     "output_type": "display_data"
    }
   ],
   "source": [
    "# Create Latitude vs. Wind Speed scatter plot\n",
    "plt.scatter(city_df[\"Lat\"], city_df[\"Wind Speed\"], facecolor = \"steelblue\", edgecolor = \"black\")\n",
    "plt.title(\"City Latitude vs. Wind Speed (mph) (04/25/20)\")\n",
    "\n",
    "# Set title and x / y labels / grid\n",
    "plt.xlabel(\"Latitude\")\n",
    "plt.ylabel(\"Wind Speed (%)\")\n",
    "plt.ylim(-2,50)\n",
    "\n",
    "# Set grid line\n",
    "plt.grid(linestyle='-', linewidth=1, alpha = 0.5)\n",
    "\n",
    "# Save the plotted figure as .pngs\n",
    "plt.savefig(\"City Latitude vs Wind Speed (mph).png\")\n",
    "\n",
    "print(\"Windiness is spread out through positive and negative latitudes\")"
   ]
  },
  {
   "cell_type": "markdown",
   "metadata": {},
   "source": [
    "## Linear Regression"
   ]
  },
  {
   "cell_type": "code",
   "execution_count": 49,
   "metadata": {},
   "outputs": [],
   "source": [
    "# Create a function to create Linear Regression plots\n",
    "\n",
    "def plot_linear_regression(x_values, y_values, title, text_coordinates):\n",
    "    (slope, intercept, rvalue, pvalue, stderr) = linregress(x_values, y_values)\n",
    "    regress_values = x_values * slope + intercept\n",
    "    line_eq = \"y = \" + str(round(slope,2)) + \"x + \" + str(round(intercept,2))\n",
    "    \n",
    "    plt.scatter(x_values,y_values)\n",
    "    plt.plot(x_values,regress_values,\"r-\")\n",
    "    plt.annotate(line_eq,text_coordinates,fontsize=14,color=\"red\")\n",
    "    plt.xlabel(\"Latitude\")\n",
    "    plt.ylabel(title)\n",
    "    print(f\"The r-squared is: {rvalue}\")\n",
    "    plt.show()"
   ]
  },
  {
   "cell_type": "code",
   "execution_count": 50,
   "metadata": {},
   "outputs": [],
   "source": [
    "# Create Northern and Southern Hemisphere DataFrames\n",
    "\n",
    "northern_hemisphere = city_df.loc[city_df[\"Lat\"] >= 0]\n",
    "southern_hemisphere = city_df.loc[city_df[\"Lat\"] < 0]\n"
   ]
  },
  {
   "cell_type": "code",
   "execution_count": 51,
   "metadata": {},
   "outputs": [
    {
     "data": {
      "text/html": [
       "<div>\n",
       "<style scoped>\n",
       "    .dataframe tbody tr th:only-of-type {\n",
       "        vertical-align: middle;\n",
       "    }\n",
       "\n",
       "    .dataframe tbody tr th {\n",
       "        vertical-align: top;\n",
       "    }\n",
       "\n",
       "    .dataframe thead th {\n",
       "        text-align: right;\n",
       "    }\n",
       "</style>\n",
       "<table border=\"1\" class=\"dataframe\">\n",
       "  <thead>\n",
       "    <tr style=\"text-align: right;\">\n",
       "      <th></th>\n",
       "      <th>City</th>\n",
       "      <th>Cloudiness</th>\n",
       "      <th>Country</th>\n",
       "      <th>Date</th>\n",
       "      <th>Humidity</th>\n",
       "      <th>Lat</th>\n",
       "      <th>Lng</th>\n",
       "      <th>Max Temp</th>\n",
       "      <th>Wind Speed</th>\n",
       "    </tr>\n",
       "  </thead>\n",
       "  <tbody>\n",
       "    <tr>\n",
       "      <th>2</th>\n",
       "      <td>Iqaluit</td>\n",
       "      <td>90</td>\n",
       "      <td>CA</td>\n",
       "      <td>1587948662</td>\n",
       "      <td>73</td>\n",
       "      <td>63.75</td>\n",
       "      <td>-68.51</td>\n",
       "      <td>23.00</td>\n",
       "      <td>13.87</td>\n",
       "    </tr>\n",
       "    <tr>\n",
       "      <th>4</th>\n",
       "      <td>Smithers</td>\n",
       "      <td>90</td>\n",
       "      <td>CA</td>\n",
       "      <td>1587948656</td>\n",
       "      <td>61</td>\n",
       "      <td>54.78</td>\n",
       "      <td>-127.17</td>\n",
       "      <td>46.40</td>\n",
       "      <td>10.29</td>\n",
       "    </tr>\n",
       "    <tr>\n",
       "      <th>7</th>\n",
       "      <td>Lavrentiya</td>\n",
       "      <td>100</td>\n",
       "      <td>RU</td>\n",
       "      <td>1587948717</td>\n",
       "      <td>91</td>\n",
       "      <td>65.58</td>\n",
       "      <td>-171.00</td>\n",
       "      <td>24.82</td>\n",
       "      <td>5.68</td>\n",
       "    </tr>\n",
       "    <tr>\n",
       "      <th>8</th>\n",
       "      <td>Hobyo</td>\n",
       "      <td>46</td>\n",
       "      <td>SO</td>\n",
       "      <td>1587948724</td>\n",
       "      <td>75</td>\n",
       "      <td>5.35</td>\n",
       "      <td>48.53</td>\n",
       "      <td>84.09</td>\n",
       "      <td>12.37</td>\n",
       "    </tr>\n",
       "    <tr>\n",
       "      <th>9</th>\n",
       "      <td>La Ronge</td>\n",
       "      <td>75</td>\n",
       "      <td>CA</td>\n",
       "      <td>1587948721</td>\n",
       "      <td>69</td>\n",
       "      <td>55.10</td>\n",
       "      <td>-105.28</td>\n",
       "      <td>39.20</td>\n",
       "      <td>25.28</td>\n",
       "    </tr>\n",
       "    <tr>\n",
       "      <th>...</th>\n",
       "      <td>...</td>\n",
       "      <td>...</td>\n",
       "      <td>...</td>\n",
       "      <td>...</td>\n",
       "      <td>...</td>\n",
       "      <td>...</td>\n",
       "      <td>...</td>\n",
       "      <td>...</td>\n",
       "      <td>...</td>\n",
       "    </tr>\n",
       "    <tr>\n",
       "      <th>1132</th>\n",
       "      <td>Butembo</td>\n",
       "      <td>65</td>\n",
       "      <td>CD</td>\n",
       "      <td>1587949024</td>\n",
       "      <td>64</td>\n",
       "      <td>0.15</td>\n",
       "      <td>29.28</td>\n",
       "      <td>58.28</td>\n",
       "      <td>3.31</td>\n",
       "    </tr>\n",
       "    <tr>\n",
       "      <th>1133</th>\n",
       "      <td>Bismarck</td>\n",
       "      <td>75</td>\n",
       "      <td>US</td>\n",
       "      <td>1587949024</td>\n",
       "      <td>24</td>\n",
       "      <td>46.81</td>\n",
       "      <td>-100.78</td>\n",
       "      <td>71.60</td>\n",
       "      <td>19.46</td>\n",
       "    </tr>\n",
       "    <tr>\n",
       "      <th>1134</th>\n",
       "      <td>Burley</td>\n",
       "      <td>1</td>\n",
       "      <td>US</td>\n",
       "      <td>1587949024</td>\n",
       "      <td>30</td>\n",
       "      <td>42.54</td>\n",
       "      <td>-113.79</td>\n",
       "      <td>69.80</td>\n",
       "      <td>10.29</td>\n",
       "    </tr>\n",
       "    <tr>\n",
       "      <th>1136</th>\n",
       "      <td>Joshīmath</td>\n",
       "      <td>84</td>\n",
       "      <td>IN</td>\n",
       "      <td>1587949024</td>\n",
       "      <td>26</td>\n",
       "      <td>30.57</td>\n",
       "      <td>79.57</td>\n",
       "      <td>48.15</td>\n",
       "      <td>4.03</td>\n",
       "    </tr>\n",
       "    <tr>\n",
       "      <th>1137</th>\n",
       "      <td>Marawi</td>\n",
       "      <td>75</td>\n",
       "      <td>PH</td>\n",
       "      <td>1587948652</td>\n",
       "      <td>79</td>\n",
       "      <td>8.00</td>\n",
       "      <td>124.29</td>\n",
       "      <td>82.99</td>\n",
       "      <td>5.01</td>\n",
       "    </tr>\n",
       "  </tbody>\n",
       "</table>\n",
       "<p>792 rows × 9 columns</p>\n",
       "</div>"
      ],
      "text/plain": [
       "            City  Cloudiness Country        Date  Humidity    Lat     Lng  \\\n",
       "2        Iqaluit          90      CA  1587948662        73  63.75  -68.51   \n",
       "4       Smithers          90      CA  1587948656        61  54.78 -127.17   \n",
       "7     Lavrentiya         100      RU  1587948717        91  65.58 -171.00   \n",
       "8          Hobyo          46      SO  1587948724        75   5.35   48.53   \n",
       "9       La Ronge          75      CA  1587948721        69  55.10 -105.28   \n",
       "...          ...         ...     ...         ...       ...    ...     ...   \n",
       "1132     Butembo          65      CD  1587949024        64   0.15   29.28   \n",
       "1133    Bismarck          75      US  1587949024        24  46.81 -100.78   \n",
       "1134      Burley           1      US  1587949024        30  42.54 -113.79   \n",
       "1136   Joshīmath          84      IN  1587949024        26  30.57   79.57   \n",
       "1137      Marawi          75      PH  1587948652        79   8.00  124.29   \n",
       "\n",
       "      Max Temp  Wind Speed  \n",
       "2        23.00       13.87  \n",
       "4        46.40       10.29  \n",
       "7        24.82        5.68  \n",
       "8        84.09       12.37  \n",
       "9        39.20       25.28  \n",
       "...        ...         ...  \n",
       "1132     58.28        3.31  \n",
       "1133     71.60       19.46  \n",
       "1134     69.80       10.29  \n",
       "1136     48.15        4.03  \n",
       "1137     82.99        5.01  \n",
       "\n",
       "[792 rows x 9 columns]"
      ]
     },
     "execution_count": 51,
     "metadata": {},
     "output_type": "execute_result"
    }
   ],
   "source": [
    "northern_hemisphere\n"
   ]
  },
  {
   "cell_type": "markdown",
   "metadata": {},
   "source": [
    "####  Northern Hemisphere - Max Temp vs. Latitude Linear Regression"
   ]
  },
  {
   "cell_type": "code",
   "execution_count": 65,
   "metadata": {},
   "outputs": [
    {
     "name": "stdout",
     "output_type": "stream",
     "text": [
      "The r-squared is: -0.8803579566839737\n"
     ]
    },
    {
     "data": {
      "image/png": "[encoded data removed]",
      "text/plain": [
       "<Figure size 432x288 with 1 Axes>"
      ]
     },
     "metadata": {
      "needs_background": "light"
     },
     "output_type": "display_data"
    },
    {
     "data": {
      "text/plain": [
       "<Figure size 432x288 with 0 Axes>"
      ]
     },
     "metadata": {},
     "output_type": "display_data"
    }
   ],
   "source": [
    "# Create MAx Temp vs. Latitude linear regression scatter plot for the Northern Hemisphere\n",
    "# Set title and x / y values\n",
    "x_values = northern_hemisphere[\"Lat\"]\n",
    "y_values = northern_hemisphere[\"Max Temp\"]\n",
    "plot_linear_regression(x_values,y_values,'Max Temp',(6,30))\n",
    "\n",
    "plt.savefig(\"Northern Hemisphere - Max Temp vs. Latitude Linear Regression.png\")\n",
    "\n"
   ]
  },
  {
   "cell_type": "markdown",
   "metadata": {},
   "source": [
    "####  Southern Hemisphere - Max Temp vs. Latitude Linear Regression"
   ]
  },
  {
   "cell_type": "code",
   "execution_count": 66,
   "metadata": {},
   "outputs": [
    {
     "name": "stdout",
     "output_type": "stream",
     "text": [
      "The r-squared is: 0.7549309047717179\n"
     ]
    },
    {
     "data": {
      "image/png": "[encoded data removed]",
      "text/plain": [
       "<Figure size 432x288 with 1 Axes>"
      ]
     },
     "metadata": {
      "needs_background": "light"
     },
     "output_type": "display_data"
    },
    {
     "data": {
      "text/plain": [
       "<Figure size 432x288 with 0 Axes>"
      ]
     },
     "metadata": {},
     "output_type": "display_data"
    }
   ],
   "source": [
    "# Create MAx Temp vs. Latitude linear regression scatter plot for the Southern Hemisphere\n",
    "# Set title and x / y values\n",
    "x_values = southern_hemisphere[\"Lat\"]\n",
    "y_values = southern_hemisphere[\"Max Temp\"]\n",
    "plot_linear_regression(x_values,y_values,'Max Temp',(6,30))\n",
    "\n",
    "plt.savefig(\"Southern Hemisphere - Max Temp vs. Latitude Linear Regression.png\")\n"
   ]
  },
  {
   "cell_type": "markdown",
   "metadata": {},
   "source": [
    "####  Northern Hemisphere - Humidity (%) vs. Latitude Linear Regression"
   ]
  },
  {
   "cell_type": "code",
   "execution_count": 67,
   "metadata": {},
   "outputs": [
    {
     "name": "stdout",
     "output_type": "stream",
     "text": [
      "The r-squared is: 0.108753219432146\n"
     ]
    },
    {
     "data": {
      "image/png": "[encoded data removed]",
      "text/plain": [
       "<Figure size 432x288 with 1 Axes>"
      ]
     },
     "metadata": {
      "needs_background": "light"
     },
     "output_type": "display_data"
    },
    {
     "data": {
      "text/plain": [
       "<Figure size 432x288 with 0 Axes>"
      ]
     },
     "metadata": {},
     "output_type": "display_data"
    }
   ],
   "source": [
    "# Create Humidity vs. Latitude linear regression scatter plot for the Northern Hemisphere\n",
    "# Set title and x / y values \n",
    "\n",
    "x_values = northern_hemisphere[\"Lat\"]\n",
    "y_values = northern_hemisphere[\"Humidity\"]\n",
    "plot_linear_regression(x_values,y_values,'Humidity',(6,30))\n",
    "\n",
    "plt.savefig(\"Northern Hemisphere - Humidity vs. Latitude Linear Regression.png\")\n"
   ]
  },
  {
   "cell_type": "markdown",
   "metadata": {},
   "source": [
    "####  Southern Hemisphere - Humidity (%) vs. Latitude Linear Regression"
   ]
  },
  {
   "cell_type": "code",
   "execution_count": 68,
   "metadata": {},
   "outputs": [
    {
     "name": "stdout",
     "output_type": "stream",
     "text": [
      "The r-squared is: 0.0867684401812077\n"
     ]
    },
    {
     "data": {
      "image/png": "[encoded data removed]",
      "text/plain": [
       "<Figure size 432x288 with 1 Axes>"
      ]
     },
     "metadata": {
      "needs_background": "light"
     },
     "output_type": "display_data"
    },
    {
     "data": {
      "text/plain": [
       "<Figure size 432x288 with 0 Axes>"
      ]
     },
     "metadata": {},
     "output_type": "display_data"
    }
   ],
   "source": [
    "# Create Humidity vs. Latitude linear regression scatter plot for the Southern Hemisphere\n",
    "# Set title and x / y values \n",
    "\n",
    "x_values = southern_hemisphere[\"Lat\"]\n",
    "y_values = southern_hemisphere[\"Humidity\"]\n",
    "plot_linear_regression(x_values,y_values,'Humidity',(6,30))\n",
    "\n",
    "plt.savefig(\"Southern Hemisphere - Humidty vs. Latitude Linear Regression.png\")"
   ]
  },
  {
   "cell_type": "markdown",
   "metadata": {},
   "source": [
    "####  Northern Hemisphere - Cloudiness (%) vs. Latitude Linear Regression"
   ]
  },
  {
   "cell_type": "code",
   "execution_count": 69,
   "metadata": {},
   "outputs": [
    {
     "name": "stdout",
     "output_type": "stream",
     "text": [
      "The r-squared is: 0.016051623619548594\n"
     ]
    },
    {
     "data": {
      "image/png": "[encoded data removed]",
      "text/plain": [
       "<Figure size 432x288 with 1 Axes>"
      ]
     },
     "metadata": {
      "needs_background": "light"
     },
     "output_type": "display_data"
    },
    {
     "data": {
      "text/plain": [
       "<Figure size 432x288 with 0 Axes>"
      ]
     },
     "metadata": {},
     "output_type": "display_data"
    }
   ],
   "source": [
    "# Create Cloudiness vs. Latitude linear regression scatter plot for the Northern Hemisphere\n",
    "# Set title and x / y values \n",
    "\n",
    "x_values = northern_hemisphere[\"Lat\"]\n",
    "y_values = northern_hemisphere[\"Cloudiness\"]\n",
    "plot_linear_regression(x_values,y_values,'Humidity',(6,30))\n",
    "\n",
    "plt.savefig(\"Northern Hemisphere - Cloudiness vs. Latitude Linear Regression.png\")"
   ]
  },
  {
   "cell_type": "markdown",
   "metadata": {},
   "source": [
    "####  Southern Hemisphere - Cloudiness (%) vs. Latitude Linear Regression"
   ]
  },
  {
   "cell_type": "code",
   "execution_count": 70,
   "metadata": {},
   "outputs": [
    {
     "name": "stdout",
     "output_type": "stream",
     "text": [
      "The r-squared is: 0.03286768301792833\n"
     ]
    },
    {
     "data": {
      "image/png": "[encoded data removed]",
      "text/plain": [
       "<Figure size 432x288 with 1 Axes>"
      ]
     },
     "metadata": {
      "needs_background": "light"
     },
     "output_type": "display_data"
    },
    {
     "data": {
      "text/plain": [
       "<Figure size 432x288 with 0 Axes>"
      ]
     },
     "metadata": {},
     "output_type": "display_data"
    }
   ],
   "source": [
    "# Create Cloudiness vs. Latitude linear regression scatter plot for the Southern Hemisphere\n",
    "# Set title and x / y values \n",
    "\n",
    "x_values = southern_hemisphere[\"Lat\"]\n",
    "y_values = southern_hemisphere[\"Cloudiness\"]\n",
    "plot_linear_regression(x_values,y_values,'Humidity',(6,30))\n",
    "\n",
    "plt.savefig(\"Southern Hemisphere - Cloudiness vs. Latitude Linear Regression.png\")"
   ]
  },
  {
   "cell_type": "markdown",
   "metadata": {},
   "source": [
    "####  Northern Hemisphere - Wind Speed (mph) vs. Latitude Linear Regression"
   ]
  },
  {
   "cell_type": "code",
   "execution_count": 72,
   "metadata": {},
   "outputs": [
    {
     "name": "stdout",
     "output_type": "stream",
     "text": [
      "The r-squared is: 0.016051623619548594\n"
     ]
    },
    {
     "data": {
      "image/png": "[encoded data removed]",
      "text/plain": [
       "<Figure size 432x288 with 1 Axes>"
      ]
     },
     "metadata": {
      "needs_background": "light"
     },
     "output_type": "display_data"
    },
    {
     "data": {
      "text/plain": [
       "<Figure size 432x288 with 0 Axes>"
      ]
     },
     "metadata": {},
     "output_type": "display_data"
    }
   ],
   "source": [
    "# Create Cloudiness vs. Latitude linear regression scatter plot for the Northern Hemisphere\n",
    "# Set title and x / y values \n",
    "\n",
    "x_values = northern_hemisphere[\"Lat\"]\n",
    "y_values = northern_hemisphere[\"Cloudiness\"]\n",
    "plot_linear_regression(x_values,y_values,'Humidity',(6,30))\n",
    "\n",
    "plt.savefig(\"Northern Hemisphere - Cloudiness vs. Latitude Linear Regression.png\")"
   ]
  },
  {
   "cell_type": "markdown",
   "metadata": {},
   "source": [
    "####  Southern Hemisphere - Wind Speed (mph) vs. Latitude Linear Regression"
   ]
  },
  {
   "cell_type": "code",
   "execution_count": 71,
   "metadata": {},
   "outputs": [
    {
     "name": "stdout",
     "output_type": "stream",
     "text": [
      "The r-squared is: 0.03286768301792833\n"
     ]
    },
    {
     "data": {
      "image/png": "[encoded data removed]",
      "text/plain": [
       "<Figure size 432x288 with 1 Axes>"
      ]
     },
     "metadata": {
      "needs_background": "light"
     },
     "output_type": "display_data"
    },
    {
     "data": {
      "text/plain": [
       "<Figure size 432x288 with 0 Axes>"
      ]
     },
     "metadata": {},
     "output_type": "display_data"
    }
   ],
   "source": [
    "# Create Cloudiness vs. Latitude linear regression scatter plot for the Southern Hemisphere\n",
    "# Set title and x / y values \n",
    "\n",
    "x_values = southern_hemisphere[\"Lat\"]\n",
    "y_values = southern_hemisphere[\"Cloudiness\"]\n",
    "plot_linear_regression(x_values,y_values,'Humidity',(6,30))\n",
    "\n",
    "plt.savefig(\"Southern Hemisphere - Cloudiness vs. Latitude Linear Regression.png\")"
   ]
  },
  {
   "cell_type": "code",
   "execution_count": null,
   "metadata": {},
   "outputs": [],
   "source": []
  }
 ],
 "metadata": {
  "anaconda-cloud": {},
  "kernel_info": {
   "name": "python3"
  },
  "kernelspec": {
   "display_name": "Python 3",
   "language": "python",
   "name": "python3"
  },
  "language_info": {
   "codemirror_mode": {
    "name": "ipython",
    "version": 3
   },
   "file_extension": ".py",
   "mimetype": "text/x-python",
   "name": "python",
   "nbconvert_exporter": "python",
   "pygments_lexer": "ipython3",
   "version": "3.7.6"
  },
  "latex_envs": {
   "LaTeX_envs_menu_present": true,
   "autoclose": false,
   "autocomplete": true,
   "bibliofile": "biblio.bib",
   "cite_by": "apalike",
   "current_citInitial": 1,
   "eqLabelWithNumbers": true,
   "eqNumInitial": 1,
   "hotkeys": {
    "equation": "Ctrl-E",
    "itemize": "Ctrl-I"
   },
   "labels_anchors": false,
   "latex_user_defs": false,
   "report_style_numbering": false,
   "user_envs_cfg": false
  },
  "nteract": {
   "version": "0.12.3"
  }
 },
 "nbformat": 4,
 "nbformat_minor": 2
}
